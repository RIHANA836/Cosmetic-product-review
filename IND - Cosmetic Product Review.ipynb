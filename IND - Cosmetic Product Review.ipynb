{
 "cells": [
  {
   "cell_type": "code",
   "execution_count": 1,
   "id": "e8037f28-0030-46ee-b2d6-ab2191bb5552",
   "metadata": {},
   "outputs": [],
   "source": [
    "import pandas as pd\n",
    "import numpy as np\n",
    "import re\n",
    "import nltk\n",
    "from nltk.corpus import stopwords\n",
    "from sklearn.model_selection import train_test_split\n",
    "from sklearn.ensemble import RandomForestClassifier\n",
    "from sklearn.metrics import accuracy_score, classification_report\n",
    "from tensorflow.keras.preprocessing.text import Tokenizer\n",
    "from tensorflow.keras.preprocessing.sequence import pad_sequences\n",
    "from tensorflow.keras.models import Sequential\n",
    "from tensorflow.keras.layers import Embedding, LSTM, Dense, Dropout\n",
    "import pickle\n"
   ]
  },
  {
   "cell_type": "code",
   "execution_count": 2,
   "id": "6aca8276-b104-4cd6-a59f-7f292aa222b1",
   "metadata": {},
   "outputs": [
    {
     "data": {
      "text/html": [
       "<div>\n",
       "<style scoped>\n",
       "    .dataframe tbody tr th:only-of-type {\n",
       "        vertical-align: middle;\n",
       "    }\n",
       "\n",
       "    .dataframe tbody tr th {\n",
       "        vertical-align: top;\n",
       "    }\n",
       "\n",
       "    .dataframe thead th {\n",
       "        text-align: right;\n",
       "    }\n",
       "</style>\n",
       "<table border=\"1\" class=\"dataframe\">\n",
       "  <thead>\n",
       "    <tr style=\"text-align: right;\">\n",
       "      <th></th>\n",
       "      <th>ID</th>\n",
       "      <th>Comment (Malayalam)</th>\n",
       "      <th>English Translation</th>\n",
       "      <th>Company</th>\n",
       "      <th>Sentiment</th>\n",
       "      <th>Improvement needed</th>\n",
       "    </tr>\n",
       "  </thead>\n",
       "  <tbody>\n",
       "    <tr>\n",
       "      <th>0</th>\n",
       "      <td>1</td>\n",
       "      <td>ഈ ലിപ്സ്റ്റിക് സൂപ്പർ ആണ്! കളർ നീണ്ടുനിൽക്ുും.</td>\n",
       "      <td>This lipstick is amazing! The color lasts long.</td>\n",
       "      <td>Lakme</td>\n",
       "      <td>Positive</td>\n",
       "      <td>NaN</td>\n",
       "    </tr>\n",
       "    <tr>\n",
       "      <th>1</th>\n",
       "      <td>2</td>\n",
       "      <td>ഈ ഫൗണ്ടണ്ടഷൻ മുഖും വരണ്ടതാക്ുന്നു.</td>\n",
       "      <td>This foundation makes the face dry.</td>\n",
       "      <td>Lakme</td>\n",
       "      <td>Negative</td>\n",
       "      <td>Quality</td>\n",
       "    </tr>\n",
       "    <tr>\n",
       "      <th>2</th>\n",
       "      <td>3</td>\n",
       "      <td>ഗുഡ് കകീും, പണ്ടേ വില കൂടുതലാണ്.</td>\n",
       "      <td>Good cream, but the price is high.</td>\n",
       "      <td>Nivea</td>\n",
       "      <td>Neutral</td>\n",
       "      <td>Price</td>\n",
       "    </tr>\n",
       "    <tr>\n",
       "      <th>3</th>\n",
       "      <td>4</td>\n",
       "      <td>എന്റെ സ്കിനിന് ഇത് റപാരുത്തറപ്പടുന്നിലല.</td>\n",
       "      <td>This doesn’t suit my skin.</td>\n",
       "      <td>L'Oréal</td>\n",
       "      <td>Negative</td>\n",
       "      <td>Product Availability</td>\n",
       "    </tr>\n",
       "    <tr>\n",
       "      <th>4</th>\n",
       "      <td>5</td>\n",
       "      <td>ണ്ടേർത്ത് പിടിച്ചു നിൽക്ുന്ന മസ്കാര.</td>\n",
       "      <td>Long-lasting mascara.</td>\n",
       "      <td>Maybelline</td>\n",
       "      <td>Positive</td>\n",
       "      <td>NaN</td>\n",
       "    </tr>\n",
       "  </tbody>\n",
       "</table>\n",
       "</div>"
      ],
      "text/plain": [
       "   ID                             Comment (Malayalam)  \\\n",
       "0   1  ഈ ലിപ്സ്റ്റിക് സൂപ്പർ ആണ്! കളർ നീണ്ടുനിൽക്ുും.   \n",
       "1   2              ഈ ഫൗണ്ടണ്ടഷൻ മുഖും വരണ്ടതാക്ുന്നു.   \n",
       "2   3                ഗുഡ് കകീും, പണ്ടേ വില കൂടുതലാണ്.   \n",
       "3   4        എന്റെ സ്കിനിന് ഇത് റപാരുത്തറപ്പടുന്നിലല.   \n",
       "4   5            ണ്ടേർത്ത് പിടിച്ചു നിൽക്ുന്ന മസ്കാര.   \n",
       "\n",
       "                               English Translation     Company Sentiment  \\\n",
       "0  This lipstick is amazing! The color lasts long.       Lakme  Positive   \n",
       "1              This foundation makes the face dry.       Lakme  Negative   \n",
       "2               Good cream, but the price is high.       Nivea   Neutral   \n",
       "3                       This doesn’t suit my skin.     L'Oréal  Negative   \n",
       "4                            Long-lasting mascara.  Maybelline  Positive   \n",
       "\n",
       "     Improvement needed  \n",
       "0                   NaN  \n",
       "1               Quality  \n",
       "2                 Price  \n",
       "3  Product Availability  \n",
       "4                   NaN  "
      ]
     },
     "execution_count": 2,
     "metadata": {},
     "output_type": "execute_result"
    }
   ],
   "source": [
    "df = pd.read_excel(r\"C:\\Users\\ASUS\\Downloads\\Book (2).xlsx\")\n",
    "df.head()\n"
   ]
  },
  {
   "cell_type": "code",
   "execution_count": 3,
   "id": "2d7fb47f-9062-4e6f-b319-b44d0c25b90f",
   "metadata": {},
   "outputs": [
    {
     "data": {
      "text/plain": [
       "(200, 6)"
      ]
     },
     "execution_count": 3,
     "metadata": {},
     "output_type": "execute_result"
    }
   ],
   "source": [
    "df.shape"
   ]
  },
  {
   "cell_type": "code",
   "execution_count": 4,
   "id": "6d4d9956-4a86-4b21-9291-44482c40e66b",
   "metadata": {},
   "outputs": [
    {
     "name": "stdout",
     "output_type": "stream",
     "text": [
      "<class 'pandas.core.frame.DataFrame'>\n",
      "RangeIndex: 200 entries, 0 to 199\n",
      "Data columns (total 6 columns):\n",
      " #   Column               Non-Null Count  Dtype \n",
      "---  ------               --------------  ----- \n",
      " 0   ID                   200 non-null    int64 \n",
      " 1   Comment (Malayalam)  200 non-null    object\n",
      " 2   English Translation  200 non-null    object\n",
      " 3   Company              200 non-null    object\n",
      " 4   Sentiment            200 non-null    object\n",
      " 5   Improvement needed   140 non-null    object\n",
      "dtypes: int64(1), object(5)\n",
      "memory usage: 9.5+ KB\n"
     ]
    }
   ],
   "source": [
    "df.info()"
   ]
  },
  {
   "cell_type": "code",
   "execution_count": 5,
   "id": "a80d390b-aee5-44cf-ba0a-f2bb86448668",
   "metadata": {},
   "outputs": [
    {
     "data": {
      "text/plain": [
       "ID                      0\n",
       "Comment (Malayalam)     0\n",
       "English Translation     0\n",
       "Company                 0\n",
       "Sentiment               0\n",
       "Improvement needed     60\n",
       "dtype: int64"
      ]
     },
     "execution_count": 5,
     "metadata": {},
     "output_type": "execute_result"
    }
   ],
   "source": [
    "df.isnull().sum()"
   ]
  },
  {
   "cell_type": "code",
   "execution_count": 6,
   "id": "bb74fc95-44bd-4e4b-838e-cbfbc61e5655",
   "metadata": {},
   "outputs": [
    {
     "data": {
      "text/plain": [
       "ID                     0\n",
       "Comment (Malayalam)    0\n",
       "English Translation    0\n",
       "Company                0\n",
       "Sentiment              0\n",
       "Improvement needed     0\n",
       "dtype: int64"
      ]
     },
     "execution_count": 6,
     "metadata": {},
     "output_type": "execute_result"
    }
   ],
   "source": [
    "df['Improvement needed'] = df['Improvement needed'].fillna('Unknown')\n",
    "\n",
    "df.isnull().sum()"
   ]
  },
  {
   "cell_type": "code",
   "execution_count": 7,
   "id": "f968edd5-e7b3-49da-930b-5d63adb19682",
   "metadata": {},
   "outputs": [
    {
     "data": {
      "text/plain": [
       "0"
      ]
     },
     "execution_count": 7,
     "metadata": {},
     "output_type": "execute_result"
    }
   ],
   "source": [
    "df.duplicated().sum()"
   ]
  },
  {
   "cell_type": "code",
   "execution_count": 8,
   "id": "77136f5b-1bdf-4814-bb96-df27b6c89e22",
   "metadata": {},
   "outputs": [
    {
     "data": {
      "text/plain": [
       "Index(['ID', 'Comment (Malayalam)', 'English Translation', 'Company',\n",
       "       'Sentiment', 'Improvement needed'],\n",
       "      dtype='object')"
      ]
     },
     "execution_count": 8,
     "metadata": {},
     "output_type": "execute_result"
    }
   ],
   "source": [
    "df.columns"
   ]
  },
  {
   "cell_type": "code",
   "execution_count": 9,
   "id": "3dd0863a-f75d-4e28-b553-3a36e5745aa5",
   "metadata": {},
   "outputs": [
    {
     "name": "stdout",
     "output_type": "stream",
     "text": [
      "Unique values in Company : ['Lakme' 'Nivea' \"L'Oréal\" 'Maybelline' 'Himalaya' 'Sunsilk' 'Plum'\n",
      " 'Insight' 'plum']\n",
      "Unique values in Sentiment : ['Positive' 'Negative' 'Neutral']\n",
      "Unique values in Improvement needed : ['Unknown' 'Quality' 'Price' 'Product Availability' 'Fragrance'\n",
      " 'Packaging' 'Quantity Issue']\n"
     ]
    }
   ],
   "source": [
    "cat_clm=['Company',\n",
    "       'Sentiment', 'Improvement needed']\n",
    "for col in cat_clm:\n",
    "    print(f\"Unique values in {col} : {df[col].unique()}\")"
   ]
  },
  {
   "cell_type": "code",
   "execution_count": 10,
   "id": "af0a7771-c051-4b90-80ea-9dbc94f5b3fd",
   "metadata": {},
   "outputs": [
    {
     "name": "stdout",
     "output_type": "stream",
     "text": [
      "['Lakme' 'Nivea' \"L'Oréal\" 'Maybelline' 'Himalaya' 'Sunsilk' 'Plum'\n",
      " 'Insight']\n"
     ]
    }
   ],
   "source": [
    "df['Company'] = df['Company'].replace('plum', 'Plum')\n",
    "\n",
    "df.to_excel(\"updated_file.xlsx\", index=False, engine=\"openpyxl\")\n",
    "\n",
    "print(df['Company'].unique())"
   ]
  },
  {
   "cell_type": "code",
   "execution_count": 11,
   "id": "9a434d5c-979c-4a49-b58d-38ef40eeb9b8",
   "metadata": {},
   "outputs": [
    {
     "data": {
      "text/html": [
       "<div>\n",
       "<style scoped>\n",
       "    .dataframe tbody tr th:only-of-type {\n",
       "        vertical-align: middle;\n",
       "    }\n",
       "\n",
       "    .dataframe tbody tr th {\n",
       "        vertical-align: top;\n",
       "    }\n",
       "\n",
       "    .dataframe thead th {\n",
       "        text-align: right;\n",
       "    }\n",
       "</style>\n",
       "<table border=\"1\" class=\"dataframe\">\n",
       "  <thead>\n",
       "    <tr style=\"text-align: right;\">\n",
       "      <th></th>\n",
       "      <th>Comment (Malayalam)</th>\n",
       "      <th>Sentiment</th>\n",
       "      <th>Improvement needed</th>\n",
       "    </tr>\n",
       "  </thead>\n",
       "  <tbody>\n",
       "    <tr>\n",
       "      <th>0</th>\n",
       "      <td>ഈ ലിപ്സ്റ്റിക് സൂപ്പർ ആണ്! കളർ നീണ്ടുനിൽക്ുും.</td>\n",
       "      <td>Positive</td>\n",
       "      <td>Unknown</td>\n",
       "    </tr>\n",
       "    <tr>\n",
       "      <th>1</th>\n",
       "      <td>ഈ ഫൗണ്ടണ്ടഷൻ മുഖും വരണ്ടതാക്ുന്നു.</td>\n",
       "      <td>Negative</td>\n",
       "      <td>Quality</td>\n",
       "    </tr>\n",
       "    <tr>\n",
       "      <th>2</th>\n",
       "      <td>ഗുഡ് കകീും, പണ്ടേ വില കൂടുതലാണ്.</td>\n",
       "      <td>Neutral</td>\n",
       "      <td>Price</td>\n",
       "    </tr>\n",
       "    <tr>\n",
       "      <th>3</th>\n",
       "      <td>എന്റെ സ്കിനിന് ഇത് റപാരുത്തറപ്പടുന്നിലല.</td>\n",
       "      <td>Negative</td>\n",
       "      <td>Product Availability</td>\n",
       "    </tr>\n",
       "    <tr>\n",
       "      <th>4</th>\n",
       "      <td>ണ്ടേർത്ത് പിടിച്ചു നിൽക്ുന്ന മസ്കാര.</td>\n",
       "      <td>Positive</td>\n",
       "      <td>Unknown</td>\n",
       "    </tr>\n",
       "  </tbody>\n",
       "</table>\n",
       "</div>"
      ],
      "text/plain": [
       "                              Comment (Malayalam) Sentiment  \\\n",
       "0  ഈ ലിപ്സ്റ്റിക് സൂപ്പർ ആണ്! കളർ നീണ്ടുനിൽക്ുും.  Positive   \n",
       "1              ഈ ഫൗണ്ടണ്ടഷൻ മുഖും വരണ്ടതാക്ുന്നു.  Negative   \n",
       "2                ഗുഡ് കകീും, പണ്ടേ വില കൂടുതലാണ്.   Neutral   \n",
       "3        എന്റെ സ്കിനിന് ഇത് റപാരുത്തറപ്പടുന്നിലല.  Negative   \n",
       "4            ണ്ടേർത്ത് പിടിച്ചു നിൽക്ുന്ന മസ്കാര.  Positive   \n",
       "\n",
       "     Improvement needed  \n",
       "0               Unknown  \n",
       "1               Quality  \n",
       "2                 Price  \n",
       "3  Product Availability  \n",
       "4               Unknown  "
      ]
     },
     "execution_count": 11,
     "metadata": {},
     "output_type": "execute_result"
    }
   ],
   "source": [
    "df.drop(columns=['ID', 'English Translation', 'Company'],inplace=True)\n",
    "df.head()"
   ]
  },
  {
   "cell_type": "code",
   "execution_count": 12,
   "id": "60e5cb93-1c72-4164-b979-5f9374065808",
   "metadata": {},
   "outputs": [
    {
     "data": {
      "text/plain": [
       "Text(0.5, 1.0, 'countplot of sentiment')"
      ]
     },
     "execution_count": 12,
     "metadata": {},
     "output_type": "execute_result"
    },
    {
     "data": {
      "image/png": "[encoded data removed]",
      "text/plain": [
       "<Figure size 640x480 with 1 Axes>"
      ]
     },
     "metadata": {},
     "output_type": "display_data"
    }
   ],
   "source": [
    "import matplotlib.pyplot as plt\n",
    "import seaborn as sns\n",
    "\n",
    "sns.countplot(df,y='Sentiment',hue='Sentiment')\n",
    "plt.ylabel('sentiment')\n",
    "plt.title('countplot of sentiment')"
   ]
  },
  {
   "cell_type": "code",
   "execution_count": 13,
   "id": "8d6fb883-97ca-496e-a28c-d2cc60452105",
   "metadata": {},
   "outputs": [
    {
     "data": {
      "text/plain": [
       "\"import nltk\\n\\nnltk.download('stopwords')\\nnltk.download('punkt_tab')\\n\""
      ]
     },
     "execution_count": 13,
     "metadata": {},
     "output_type": "execute_result"
    }
   ],
   "source": [
    "'''import nltk\n",
    "\n",
    "nltk.download('stopwords')\n",
    "nltk.download('punkt_tab')\n",
    "'''"
   ]
  },
  {
   "cell_type": "code",
   "execution_count": 14,
   "id": "fa4819bd-3b69-46a9-ae16-41e7f29488ff",
   "metadata": {},
   "outputs": [
    {
     "data": {
      "text/plain": [
       "['albanian',\n",
       " 'arabic',\n",
       " 'azerbaijani',\n",
       " 'basque',\n",
       " 'belarusian',\n",
       " 'bengali',\n",
       " 'catalan',\n",
       " 'chinese',\n",
       " 'danish',\n",
       " 'dutch',\n",
       " 'english',\n",
       " 'finnish',\n",
       " 'french',\n",
       " 'german',\n",
       " 'greek',\n",
       " 'hebrew',\n",
       " 'hinglish',\n",
       " 'hungarian',\n",
       " 'indonesian',\n",
       " 'italian',\n",
       " 'kazakh',\n",
       " 'nepali',\n",
       " 'norwegian',\n",
       " 'portuguese',\n",
       " 'romanian',\n",
       " 'russian',\n",
       " 'slovene',\n",
       " 'spanish',\n",
       " 'swedish',\n",
       " 'tajik',\n",
       " 'turkish']"
      ]
     },
     "execution_count": 14,
     "metadata": {},
     "output_type": "execute_result"
    }
   ],
   "source": [
    "from nltk.corpus import stopwords\n",
    "stopwords.fileids()  # Check available languages\n"
   ]
  },
  {
   "cell_type": "code",
   "execution_count": 15,
   "id": "3c6a855a-d1fd-4540-931c-290aba477966",
   "metadata": {},
   "outputs": [],
   "source": [
    "malayalam_stopwords = [\n",
    "    \"ആണ്\", \"അല്ല\", \"എന്ന\", \"എന്നാൽ\", \"അവൻ\", \"അവൾ\", \"അവർ\", \"ഞാൻ\", \"നിന്റെ\", \"നിങ്ങളുടെ\", \n",
    "    \"നമ്മുടെ\", \"അവന്റെ\", \"അവളുടെ\", \"അവരുടെ\", \"എന്റെ\", \"ഇത്\", \"അതു\", \"ആ\", \"ഇവ\", \"അവ\", \n",
    "    \"ഇവൻ\", \"ഇവൾ\", \"ഇവർ\", \"അവൻ\", \"അവൾ\", \"അവർ\", \"അതിന്റെ\", \"ഇതിനുള്ള\", \"അതിനുള്ള\", \n",
    "    \"അവിടേയ്ക്ക്\", \"ഇവിടേയ്ക്ക്\", \"എവിടേയ്ക്ക്\", \"എവിടും\", \"ഇവിടും\", \"അവിടും\", \n",
    "    \"ഇപ്പോൾ\", \"അപ്പോൾ\", \"എപ്പോഴാണ്\", \"എപ്പോൾ\", \"എത്ര\", \"എത്രത്തോളം\", \"എത്രമാത്രം\", \n",
    "    \"എവിടെയാണ്\", \"എവിടെയാണ്\", \"എവിടുന്ന്\", \"എവിടെ\", \"എങ്ങനെയാണ്\", \"എന്ത്\", \"എന്താണ്\", \n",
    "    \"എന്തിനാണ്\", \"എന്തിനാണ്\", \"കാണാം\", \"കാണുന്നു\", \"കാണുന്ന\", \"കാണാത്ത\", \"കണ്ടു\", \"കണ്ട\", \n",
    "    \"കണ്ടുപിടിക്കാം\", \"കണ്ടുപിടിച്ചു\", \"കണ്ടുപിടിച്ച\", \"കണ്ടുപിടിക്കുന്നത്\", \"കണ്ടുപിടിക്കേണ്ടത്\", \n",
    "    \"കണ്ടുപിടിക്കണം\", \"കണ്ടുപിടിക്കുകയോ\", \"കണ്ടുപിടിക്കുകയല്ല\", \"കണ്ടുപിടിക്കേണ്ട\", \"ആകുന്നു\", \n",
    "    \"ആയി\", \"ആയിരിക്കും\", \"ആയിരുന്നു\", \"ആകുന്നത്\", \"ആകാനാണ്\", \"ആകണ്ട\", \"ആകേണ്ടത്\", \"ആകാൻ\", \n",
    "    \"ആകാം\", \"ആകുന്ന\", \"ചെയ്യുന്നു\", \"ചെയ്യുന്നു\", \"ചെയ്ത\", \"ചെയ്തത്\", \"ചെയ്താൽ\", \"ചെയ്യേണ്ട\", \n",
    "    \"ചെയ്യണം\", \"ചെയ്യാനാണ്\", \"ചെയ്യേണ്ടത്\", \"ഉണ്ടോ\", \"ഉണ്ടാവും\", \"ഉണ്ടായിരുന്നു\", \"ഉണ്ടായിരുന്ന\", \n",
    "    \"ഉണ്ടായിരിക്കുക\", \"ഉണ്ടായിരിക്കുകയോ\", \"ഉണ്ടായിരുന്നില്ല\", \"ഉണ്ടാകുന്ന\", \"ഉണ്ടാകാത്ത\", \n",
    "    \"ഉണ്ടാവുന്നതും\", \"ഉണ്ടാവില്ല\", \"ഉണ്ടാകുന്നു\", \"ഉണ്ടാകേണ്ട\", \"ഉണ്ടാകണം\", \"ഉണ്ടാകേണ്ടത്\", \"ഉണ്ടാകുന്നത്\"\n",
    "]\n",
    "\n",
    "\n",
    "def preprocess_text(text):\n",
    "    \n",
    "    text = re.sub(r\"[^അ-ഹ0-9\\s]\", \"\",text)   # Remove punctuation\n",
    "    words = text.split()\n",
    "    words = [word for word in words if word not in malayalam_stopwords]  # Remove stopwords\n",
    "    return ' '.join(words)\n",
    "\n",
    "df['processed_text'] = df['Comment (Malayalam)'].apply(preprocess_text)\n"
   ]
  },
  {
   "cell_type": "code",
   "execution_count": 16,
   "id": "a3657fd5-c590-42b1-a54f-3a8b27f217b0",
   "metadata": {},
   "outputs": [
    {
     "data": {
      "text/html": [
       "<div>\n",
       "<style scoped>\n",
       "    .dataframe tbody tr th:only-of-type {\n",
       "        vertical-align: middle;\n",
       "    }\n",
       "\n",
       "    .dataframe tbody tr th {\n",
       "        vertical-align: top;\n",
       "    }\n",
       "\n",
       "    .dataframe thead th {\n",
       "        text-align: right;\n",
       "    }\n",
       "</style>\n",
       "<table border=\"1\" class=\"dataframe\">\n",
       "  <thead>\n",
       "    <tr style=\"text-align: right;\">\n",
       "      <th></th>\n",
       "      <th>Comment (Malayalam)</th>\n",
       "      <th>Sentiment</th>\n",
       "      <th>Improvement needed</th>\n",
       "      <th>processed_text</th>\n",
       "    </tr>\n",
       "  </thead>\n",
       "  <tbody>\n",
       "    <tr>\n",
       "      <th>0</th>\n",
       "      <td>ഈ ലിപ്സ്റ്റിക് സൂപ്പർ ആണ്! കളർ നീണ്ടുനിൽക്ുും.</td>\n",
       "      <td>Positive</td>\n",
       "      <td>Unknown</td>\n",
       "      <td>ഈ ലപസററക സപപ ആണ കള നണടനക</td>\n",
       "    </tr>\n",
       "    <tr>\n",
       "      <th>1</th>\n",
       "      <td>ഈ ഫൗണ്ടണ്ടഷൻ മുഖും വരണ്ടതാക്ുന്നു.</td>\n",
       "      <td>Negative</td>\n",
       "      <td>Quality</td>\n",
       "      <td>ഈ ഫണടണടഷ മഖ വരണടതകനന</td>\n",
       "    </tr>\n",
       "    <tr>\n",
       "      <th>2</th>\n",
       "      <td>ഗുഡ് കകീും, പണ്ടേ വില കൂടുതലാണ്.</td>\n",
       "      <td>Neutral</td>\n",
       "      <td>Price</td>\n",
       "      <td>ഗഡ കക പണട വല കടതലണ</td>\n",
       "    </tr>\n",
       "    <tr>\n",
       "      <th>3</th>\n",
       "      <td>എന്റെ സ്കിനിന് ഇത് റപാരുത്തറപ്പടുന്നിലല.</td>\n",
       "      <td>Negative</td>\n",
       "      <td>Product Availability</td>\n",
       "      <td>എനറ സകനന ഇത റപരതതറപപടനനലല</td>\n",
       "    </tr>\n",
       "    <tr>\n",
       "      <th>4</th>\n",
       "      <td>ണ്ടേർത്ത് പിടിച്ചു നിൽക്ുന്ന മസ്കാര.</td>\n",
       "      <td>Positive</td>\n",
       "      <td>Unknown</td>\n",
       "      <td>ണടതത പടചച നകനന മസകര</td>\n",
       "    </tr>\n",
       "  </tbody>\n",
       "</table>\n",
       "</div>"
      ],
      "text/plain": [
       "                              Comment (Malayalam) Sentiment  \\\n",
       "0  ഈ ലിപ്സ്റ്റിക് സൂപ്പർ ആണ്! കളർ നീണ്ടുനിൽക്ുും.  Positive   \n",
       "1              ഈ ഫൗണ്ടണ്ടഷൻ മുഖും വരണ്ടതാക്ുന്നു.  Negative   \n",
       "2                ഗുഡ് കകീും, പണ്ടേ വില കൂടുതലാണ്.   Neutral   \n",
       "3        എന്റെ സ്കിനിന് ഇത് റപാരുത്തറപ്പടുന്നിലല.  Negative   \n",
       "4            ണ്ടേർത്ത് പിടിച്ചു നിൽക്ുന്ന മസ്കാര.  Positive   \n",
       "\n",
       "     Improvement needed             processed_text  \n",
       "0               Unknown   ഈ ലപസററക സപപ ആണ കള നണടനക  \n",
       "1               Quality       ഈ ഫണടണടഷ മഖ വരണടതകനന  \n",
       "2                 Price         ഗഡ കക പണട വല കടതലണ  \n",
       "3  Product Availability  എനറ സകനന ഇത റപരതതറപപടനനലല  \n",
       "4               Unknown        ണടതത പടചച നകനന മസകര  "
      ]
     },
     "execution_count": 16,
     "metadata": {},
     "output_type": "execute_result"
    }
   ],
   "source": [
    "df.head()"
   ]
  },
  {
   "cell_type": "code",
   "execution_count": 17,
   "id": "d33ddc14-9826-4d37-9a73-aa322ae971c1",
   "metadata": {},
   "outputs": [],
   "source": [
    "from sklearn.preprocessing import LabelEncoder, OneHotEncoder\n",
    "\n",
    "label_encoder = LabelEncoder()\n",
    "df['sentiment_encoded'] = label_encoder.fit_transform(df['Sentiment'])  # 0: Negative, 1: Neutral, 2: Positive\n"
   ]
  },
  {
   "cell_type": "code",
   "execution_count": 18,
   "id": "4f0eff57-5e00-4107-9ccf-cc096dd91517",
   "metadata": {},
   "outputs": [],
   "source": [
    "one_hot_encoder = OneHotEncoder()\n",
    "improvement_encoded = one_hot_encoder.fit_transform(df[['Improvement needed']]).toarray()\n"
   ]
  },
  {
   "cell_type": "code",
   "execution_count": 54,
   "id": "6d0ddc9f-5621-4c4a-9216-ce9249a9a6e9",
   "metadata": {},
   "outputs": [
    {
     "data": {
      "text/plain": [
       "array([[0., 0., 0., ..., 0., 0., 1.],\n",
       "       [0., 0., 0., ..., 1., 0., 0.],\n",
       "       [0., 0., 1., ..., 0., 0., 0.],\n",
       "       ...,\n",
       "       [0., 0., 0., ..., 0., 0., 1.],\n",
       "       [0., 1., 0., ..., 0., 0., 0.],\n",
       "       [1., 0., 0., ..., 0., 0., 0.]])"
      ]
     },
     "execution_count": 54,
     "metadata": {},
     "output_type": "execute_result"
    }
   ],
   "source": [
    "improvement_encoded"
   ]
  },
  {
   "cell_type": "code",
   "execution_count": 19,
   "id": "75b161ec-6adc-494e-838c-b312183f5118",
   "metadata": {},
   "outputs": [
    {
     "data": {
      "text/html": [
       "<div>\n",
       "<style scoped>\n",
       "    .dataframe tbody tr th:only-of-type {\n",
       "        vertical-align: middle;\n",
       "    }\n",
       "\n",
       "    .dataframe tbody tr th {\n",
       "        vertical-align: top;\n",
       "    }\n",
       "\n",
       "    .dataframe thead th {\n",
       "        text-align: right;\n",
       "    }\n",
       "</style>\n",
       "<table border=\"1\" class=\"dataframe\">\n",
       "  <thead>\n",
       "    <tr style=\"text-align: right;\">\n",
       "      <th></th>\n",
       "      <th>Comment (Malayalam)</th>\n",
       "      <th>Sentiment</th>\n",
       "      <th>Improvement needed</th>\n",
       "      <th>processed_text</th>\n",
       "      <th>sentiment_encoded</th>\n",
       "    </tr>\n",
       "  </thead>\n",
       "  <tbody>\n",
       "    <tr>\n",
       "      <th>0</th>\n",
       "      <td>ഈ ലിപ്സ്റ്റിക് സൂപ്പർ ആണ്! കളർ നീണ്ടുനിൽക്ുും.</td>\n",
       "      <td>Positive</td>\n",
       "      <td>Unknown</td>\n",
       "      <td>ഈ ലപസററക സപപ ആണ കള നണടനക</td>\n",
       "      <td>2</td>\n",
       "    </tr>\n",
       "    <tr>\n",
       "      <th>1</th>\n",
       "      <td>ഈ ഫൗണ്ടണ്ടഷൻ മുഖും വരണ്ടതാക്ുന്നു.</td>\n",
       "      <td>Negative</td>\n",
       "      <td>Quality</td>\n",
       "      <td>ഈ ഫണടണടഷ മഖ വരണടതകനന</td>\n",
       "      <td>0</td>\n",
       "    </tr>\n",
       "    <tr>\n",
       "      <th>2</th>\n",
       "      <td>ഗുഡ് കകീും, പണ്ടേ വില കൂടുതലാണ്.</td>\n",
       "      <td>Neutral</td>\n",
       "      <td>Price</td>\n",
       "      <td>ഗഡ കക പണട വല കടതലണ</td>\n",
       "      <td>1</td>\n",
       "    </tr>\n",
       "    <tr>\n",
       "      <th>3</th>\n",
       "      <td>എന്റെ സ്കിനിന് ഇത് റപാരുത്തറപ്പടുന്നിലല.</td>\n",
       "      <td>Negative</td>\n",
       "      <td>Product Availability</td>\n",
       "      <td>എനറ സകനന ഇത റപരതതറപപടനനലല</td>\n",
       "      <td>0</td>\n",
       "    </tr>\n",
       "    <tr>\n",
       "      <th>4</th>\n",
       "      <td>ണ്ടേർത്ത് പിടിച്ചു നിൽക്ുന്ന മസ്കാര.</td>\n",
       "      <td>Positive</td>\n",
       "      <td>Unknown</td>\n",
       "      <td>ണടതത പടചച നകനന മസകര</td>\n",
       "      <td>2</td>\n",
       "    </tr>\n",
       "  </tbody>\n",
       "</table>\n",
       "</div>"
      ],
      "text/plain": [
       "                              Comment (Malayalam) Sentiment  \\\n",
       "0  ഈ ലിപ്സ്റ്റിക് സൂപ്പർ ആണ്! കളർ നീണ്ടുനിൽക്ുും.  Positive   \n",
       "1              ഈ ഫൗണ്ടണ്ടഷൻ മുഖും വരണ്ടതാക്ുന്നു.  Negative   \n",
       "2                ഗുഡ് കകീും, പണ്ടേ വില കൂടുതലാണ്.   Neutral   \n",
       "3        എന്റെ സ്കിനിന് ഇത് റപാരുത്തറപ്പടുന്നിലല.  Negative   \n",
       "4            ണ്ടേർത്ത് പിടിച്ചു നിൽക്ുന്ന മസ്കാര.  Positive   \n",
       "\n",
       "     Improvement needed             processed_text  sentiment_encoded  \n",
       "0               Unknown   ഈ ലപസററക സപപ ആണ കള നണടനക                  2  \n",
       "1               Quality       ഈ ഫണടണടഷ മഖ വരണടതകനന                  0  \n",
       "2                 Price         ഗഡ കക പണട വല കടതലണ                  1  \n",
       "3  Product Availability  എനറ സകനന ഇത റപരതതറപപടനനലല                  0  \n",
       "4               Unknown        ണടതത പടചച നകനന മസകര                  2  "
      ]
     },
     "execution_count": 19,
     "metadata": {},
     "output_type": "execute_result"
    }
   ],
   "source": [
    "df.head()"
   ]
  },
  {
   "cell_type": "code",
   "execution_count": 20,
   "id": "3eb2e46a-f753-424a-b801-4bfda7471ab3",
   "metadata": {},
   "outputs": [],
   "source": [
    "X_train, X_test, y_train, y_test = train_test_split(df['processed_text'], df['sentiment_encoded'], test_size=0.2, random_state=42)\n",
    "X_train_imp, X_test_imp, y_train_imp, y_test_imp = train_test_split(df['processed_text'], improvement_encoded, test_size=0.2, random_state=42)"
   ]
  },
  {
   "cell_type": "markdown",
   "id": "757c1d28-1402-4e6c-96c1-dacb24b62c10",
   "metadata": {},
   "source": [
    " #### Random Forest Model for Sentiment Analysis"
   ]
  },
  {
   "cell_type": "code",
   "execution_count": 22,
   "id": "9f0ae60e-f78d-4d11-a989-eda73380bed5",
   "metadata": {},
   "outputs": [
    {
     "name": "stdout",
     "output_type": "stream",
     "text": [
      "Random Forest Accuracy: 0.75\n"
     ]
    }
   ],
   "source": [
    "from sklearn.feature_extraction.text import TfidfVectorizer\n",
    "\n",
    "# Convert text into TF-IDF features\n",
    "tfidf = TfidfVectorizer(max_features=5000)\n",
    "X_train_tfidf = tfidf.fit_transform(X_train)\n",
    "X_test_tfidf = tfidf.transform(X_test)\n",
    "\n",
    "# Train Random Forest model\n",
    "rf_model = RandomForestClassifier(n_estimators=100, random_state=42)\n",
    "rf_model.fit(X_train_tfidf, y_train)\n",
    "\n",
    "# Evaluate\n",
    "y_pred_rf = rf_model.predict(X_test_tfidf)\n",
    "print(\"Random Forest Accuracy:\", accuracy_score(y_test, y_pred_rf))\n",
    "\n",
    "# Save model\n",
    "pickle.dump(rf_model, open(\"rf_model.pkl\", \"wb\"))\n",
    "pickle.dump(tfidf, open(\"tfidf.pkl\", \"wb\"))\n"
   ]
  },
  {
   "cell_type": "markdown",
   "id": "fb5545f1-826c-43fc-b7e5-dfc8be7c8d32",
   "metadata": {},
   "source": [
    "#### LSTM Model for Sentiment Analysis"
   ]
  },
  {
   "cell_type": "code",
   "execution_count": 24,
   "id": "8da16c2f-1cd5-4fc9-9cc7-04b926d28165",
   "metadata": {},
   "outputs": [
    {
     "name": "stdout",
     "output_type": "stream",
     "text": [
      "Epoch 1/5\n"
     ]
    },
    {
     "name": "stderr",
     "output_type": "stream",
     "text": [
      "C:\\Users\\ASUS\\anaconda3\\Lib\\site-packages\\keras\\src\\layers\\core\\embedding.py:90: UserWarning: Argument `input_length` is deprecated. Just remove it.\n",
      "  warnings.warn(\n"
     ]
    },
    {
     "name": "stdout",
     "output_type": "stream",
     "text": [
      "\u001b[1m5/5\u001b[0m \u001b[32m━━━━━━━━━━━━━━━━━━━━\u001b[0m\u001b[37m\u001b[0m \u001b[1m3s\u001b[0m 142ms/step - accuracy: 0.3627 - loss: 1.1003 - val_accuracy: 0.4500 - val_loss: 1.0852\n",
      "Epoch 2/5\n",
      "\u001b[1m5/5\u001b[0m \u001b[32m━━━━━━━━━━━━━━━━━━━━\u001b[0m\u001b[37m\u001b[0m \u001b[1m0s\u001b[0m 50ms/step - accuracy: 0.3656 - loss: 1.0777 - val_accuracy: 0.4500 - val_loss: 1.0611\n",
      "Epoch 3/5\n",
      "\u001b[1m5/5\u001b[0m \u001b[32m━━━━━━━━━━━━━━━━━━━━\u001b[0m\u001b[37m\u001b[0m \u001b[1m0s\u001b[0m 50ms/step - accuracy: 0.4594 - loss: 1.0483 - val_accuracy: 0.4500 - val_loss: 1.0491\n",
      "Epoch 4/5\n",
      "\u001b[1m5/5\u001b[0m \u001b[32m━━━━━━━━━━━━━━━━━━━━\u001b[0m\u001b[37m\u001b[0m \u001b[1m0s\u001b[0m 51ms/step - accuracy: 0.4398 - loss: 1.0412 - val_accuracy: 0.4500 - val_loss: 1.0348\n",
      "Epoch 5/5\n",
      "\u001b[1m5/5\u001b[0m \u001b[32m━━━━━━━━━━━━━━━━━━━━\u001b[0m\u001b[37m\u001b[0m \u001b[1m0s\u001b[0m 51ms/step - accuracy: 0.4432 - loss: 1.0157 - val_accuracy: 0.4500 - val_loss: 1.0248\n",
      "\u001b[1m2/2\u001b[0m \u001b[32m━━━━━━━━━━━━━━━━━━━━\u001b[0m\u001b[37m\u001b[0m \u001b[1m0s\u001b[0m 25ms/step - accuracy: 0.4250 - loss: 1.0338\n"
     ]
    },
    {
     "name": "stderr",
     "output_type": "stream",
     "text": [
      "WARNING:absl:You are saving your model as an HDF5 file via `model.save()` or `keras.saving.save_model(model)`. This file format is considered legacy. We recommend using instead the native Keras format, e.g. `model.save('my_model.keras')` or `keras.saving.save_model(model, 'my_model.keras')`. \n"
     ]
    },
    {
     "name": "stdout",
     "output_type": "stream",
     "text": [
      "LSTM Accuracy: 0.44999998807907104\n"
     ]
    }
   ],
   "source": [
    "# Tokenization for LSTM\n",
    "tokenizer = Tokenizer(num_words=5000, oov_token=\"<OOV>\")\n",
    "tokenizer.fit_on_texts(X_train)\n",
    "X_train_seq = pad_sequences(tokenizer.texts_to_sequences(X_train), maxlen=100)\n",
    "X_test_seq = pad_sequences(tokenizer.texts_to_sequences(X_test), maxlen=100)\n",
    "\n",
    "# LSTM Model\n",
    "lstm_model = Sequential([\n",
    "    Embedding(input_dim=5000, output_dim=128, input_length=100),\n",
    "    LSTM(64, return_sequences=True),\n",
    "    Dropout(0.2),\n",
    "    LSTM(32),\n",
    "    Dense(3, activation='softmax')  # 3 classes: Positive, Neutral, Negative\n",
    "])\n",
    "\n",
    "lstm_model.compile(loss='sparse_categorical_crossentropy', optimizer='adam', metrics=['accuracy'])\n",
    "lstm_model.fit(X_train_seq, y_train, validation_data=(X_test_seq, y_test), epochs=5, batch_size=32)\n",
    "\n",
    "# Evaluate\n",
    "_, lstm_accuracy = lstm_model.evaluate(X_test_seq, y_test)\n",
    "print(\"LSTM Accuracy:\", lstm_accuracy)\n",
    "\n",
    "# Save model\n",
    "lstm_model.save(\"lstm_model.h5\")\n",
    "pickle.dump(tokenizer, open(\"tokenizer.pkl\", \"wb\"))\n"
   ]
  },
  {
   "cell_type": "code",
   "execution_count": 25,
   "id": "7092d9de-ecf5-4833-adc7-e35a3330384e",
   "metadata": {},
   "outputs": [],
   "source": [
    "#### Train Random Forest for Improvement Needed"
   ]
  },
  {
   "cell_type": "code",
   "execution_count": 26,
   "id": "3dba2894-674f-4caf-85d4-39f9852d01fe",
   "metadata": {},
   "outputs": [
    {
     "name": "stdout",
     "output_type": "stream",
     "text": [
      "Random Forest Improvement Prediction Accuracy: 0.525\n"
     ]
    }
   ],
   "source": [
    "X_train_tfidf_imp = tfidf.transform(X_train_imp)\n",
    "X_test_tfidf_imp = tfidf.transform(X_test_imp)\n",
    "\n",
    "# Train Random Forest for improvement prediction\n",
    "rf_model_imp = RandomForestClassifier(n_estimators=100, random_state=42)\n",
    "rf_model_imp.fit(X_train_tfidf_imp, y_train_imp)\n",
    "\n",
    "\n",
    "# Check accuracy for Random Forest Improvement Model\n",
    "y_pred_rf_imp = rf_model_imp.predict(X_test_tfidf_imp)\n",
    "improvement_accuracy = accuracy_score(y_test_imp.argmax(axis=1), y_pred_rf_imp.argmax(axis=1))\n",
    "print(\"Random Forest Improvement Prediction Accuracy:\", improvement_accuracy)\n",
    "\n",
    "# Save model\n",
    "pickle.dump(rf_model_imp, open(\"rf_model_imp.pkl\", \"wb\"))\n"
   ]
  },
  {
   "cell_type": "code",
   "execution_count": 27,
   "id": "566d02eb-0e6a-4fb9-8605-5ef0cb7026b7",
   "metadata": {},
   "outputs": [
    {
     "name": "stdout",
     "output_type": "stream",
     "text": [
      "Sentiment: Neutral. Suggested improvement: Price.\n"
     ]
    }
   ],
   "source": [
    "def predict_comment(comment):\n",
    "    comment_processed = preprocess_text(comment)\n",
    "    comment_tfidf = tfidf.transform([comment_processed])\n",
    "    \n",
    "    # Sentiment Prediction\n",
    "    sentiment_pred_rf = rf_model.predict(comment_tfidf)[0]\n",
    "    sentiment_text = label_encoder.inverse_transform([sentiment_pred_rf])[0]\n",
    "    \n",
    "    # If sentiment is positive\n",
    "    if sentiment_text == \"Positive\":\n",
    "        return f\"Sentiment: {sentiment_text}. Customer is satisfied, no improvement needed.\"\n",
    "    \n",
    "    # Improvement Prediction\n",
    "    improvement_pred = rf_model_imp.predict(comment_tfidf)[0]\n",
    "    improvements = one_hot_encoder.inverse_transform([improvement_pred])[0][0]\n",
    "    \n",
    "    return f\"Sentiment: {sentiment_text}. Suggested improvement: {improvements}.\"\n",
    "\n",
    "# Example usage\n",
    "print(predict_comment(\"ഗുഡ് കകീും, പണ്ടേ വില കൂടുതലാണ്.\"))\n"
   ]
  },
  {
   "cell_type": "code",
   "execution_count": null,
   "id": "8fcb3926-f132-45c0-834b-73cc980c625a",
   "metadata": {},
   "outputs": [],
   "source": []
  }
 ],
 "metadata": {
  "kernelspec": {
   "display_name": "Python 3 (ipykernel)",
   "language": "python",
   "name": "python3"
  },
  "language_info": {
   "codemirror_mode": {
    "name": "ipython",
    "version": 3
   },
   "file_extension": ".py",
   "mimetype": "text/x-python",
   "name": "python",
   "nbconvert_exporter": "python",
   "pygments_lexer": "ipython3",
   "version": "3.12.4"
  }
 },
 "nbformat": 4,
 "nbformat_minor": 5
}
